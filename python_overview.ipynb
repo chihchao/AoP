{
  "nbformat": 4,
  "nbformat_minor": 0,
  "metadata": {
    "colab": {
      "provenance": [],
      "authorship_tag": "ABX9TyN5D/Wi2QCteoiHzk+JYiFe",
      "include_colab_link": true
    },
    "kernelspec": {
      "name": "python3",
      "display_name": "Python 3"
    },
    "language_info": {
      "name": "python"
    }
  },
  "cells": [
    {
      "cell_type": "markdown",
      "metadata": {
        "id": "view-in-github",
        "colab_type": "text"
      },
      "source": [
        "<a href=\"https://colab.research.google.com/github/chihchao/AoP/blob/main/python_overview.ipynb\" target=\"_parent\"><img src=\"https://colab.research.google.com/assets/colab-badge.svg\" alt=\"Open In Colab\"/></a>"
      ]
    },
    {
      "cell_type": "markdown",
      "source": [
        "## 加法器"
      ],
      "metadata": {
        "id": "OaxxiOAXuHkN"
      }
    },
    {
      "cell_type": "markdown",
      "source": [
        "## BMI Calculator"
      ],
      "metadata": {
        "id": "pCe9fGx2uPIi"
      }
    },
    {
      "cell_type": "code",
      "source": [
        "height = float(input('Height (cm): '))\n",
        "weight = float(input('Weight (kg): '))\n",
        "\n",
        "height = height / 100\n",
        "bmi = weight / (height ** 2)\n",
        "\n",
        "print(f'Your BMI is: {bmi:.1f}')"
      ],
      "metadata": {
        "colab": {
          "base_uri": "https://localhost:8080/"
        },
        "id": "Ph9-lCQ5vYcJ",
        "outputId": "1238a125-2c1f-4ecc-ba42-99a69312a136"
      },
      "execution_count": null,
      "outputs": [
        {
          "output_type": "stream",
          "name": "stdout",
          "text": [
            "Height (cm): 177\n",
            "Weight (kg): 80\n",
            "Your BMI is: 25.5\n"
          ]
        }
      ]
    },
    {
      "cell_type": "markdown",
      "source": [
        "## Rock-Paper-Scissors"
      ],
      "metadata": {
        "id": "NA2orr_Euaj-"
      }
    },
    {
      "cell_type": "markdown",
      "source": [
        "## 終極密碼"
      ],
      "metadata": {
        "id": "YPhN1dyRuin4"
      }
    },
    {
      "cell_type": "markdown",
      "source": [
        "## Caesar Cipher: Encode and decode"
      ],
      "metadata": {
        "id": "kBUxqOwMutUY"
      }
    },
    {
      "cell_type": "markdown",
      "source": [
        "## Shopping Cart"
      ],
      "metadata": {
        "id": "0K1qIchXtWOC"
      }
    },
    {
      "cell_type": "code",
      "source": [
        "from IPython.display import clear_output\n",
        "shopping_cart = []\n",
        "products = { \"apple\": 25, \"banana\": 12, \"cherry\": 30 }\n",
        "while True:\n",
        "    clear_output()\n",
        "    print('商品欄：' + ','.join(f'{product}/{price}' for product, price in products.items()))\n",
        "    print('購物車：' + ','.join(shopping_cart))\n",
        "    print('功能列：1.加入商品；2.移除商品；3.結帳；4.離開')\n",
        "    choice = input()\n",
        "    if choice[0] == '1':\n",
        "        product = choice[2:]\n",
        "        if product in products.keys():\n",
        "            shopping_cart.append(product)\n",
        "    elif choice[0] == '2':\n",
        "        product = choice[2:]\n",
        "        if product in shopping_cart:\n",
        "            shopping_cart.remove(product)\n",
        "    elif choice[0] == '3':\n",
        "        total_price = 0\n",
        "        for item in shopping_cart:\n",
        "            total_price += products[item]\n",
        "        print(f'結帳金額：{total_price}')\n",
        "        break\n",
        "    else:\n",
        "        break"
      ],
      "metadata": {
        "colab": {
          "base_uri": "https://localhost:8080/"
        },
        "id": "RnXfWxbcpyOK",
        "outputId": "ee8a48c3-c4a9-4cb7-eda3-528d27db380c"
      },
      "execution_count": null,
      "outputs": [
        {
          "output_type": "stream",
          "name": "stdout",
          "text": [
            "商品欄：apple/25,banana/12,cherry/30\n",
            "購物車：apple\n",
            "功能列：1.加入商品；2.移除商品；3.結帳；4.離開\n",
            "3\n",
            "結帳金額：25\n"
          ]
        }
      ]
    },
    {
      "cell_type": "markdown",
      "source": [
        "## 美食資訊查詢"
      ],
      "metadata": {
        "id": "FGAs5H6-3Uzm"
      }
    },
    {
      "cell_type": "code",
      "source": [
        "!pip install gradio -q"
      ],
      "metadata": {
        "id": "4F-GqShE5urb"
      },
      "execution_count": 3,
      "outputs": []
    },
    {
      "cell_type": "code",
      "source": [
        "import gradio as gr\n",
        "\n",
        "def get_food_info(choice):\n",
        "    for row in food_database:\n",
        "        if row['name'] == choice:\n",
        "            return f\"名稱：{row['name']}\\n地址：{row['address']}\\n電話：{row['phone']}\"\n",
        "    return '查無資訊'\n",
        "\n",
        "food_database = [\n",
        "    {\"name\": \"新濱·駅前\", \"address\": \"804高雄市鼓山區臨海三路5號\", \"phone\": \"+88675315770\"},\n",
        "    {\"name\": \"上海生煎湯包\", \"address\": \"807高雄市三民區熱河一街208號\", \"phone\": \"+88673220702\"},\n",
        "    {\"name\": \"岡山舊市羊肉\", \"address\": \"820高雄市岡山區河華路111號\", \"phone\": \"+88676258151\"},\n",
        "    {\"name\": \"黃家肉燥飯\", \"address\": \"825高雄市橋頭區橋南路106號\", \"phone\": \"+88676123253\"}\n",
        "]\n",
        "\n",
        "menu = [ row['name'] for row in food_database ]\n",
        "\n",
        "gr.Interface(\n",
        "    fn=get_food_info,\n",
        "    inputs=gr.Dropdown(choices=menu, label=\"請選擇餐廳：\"),\n",
        "    outputs=gr.Textbox(label=\"餐廳資訊：\")\n",
        ").launch()\n"
      ],
      "metadata": {
        "colab": {
          "base_uri": "https://localhost:8080/",
          "height": 626
        },
        "id": "u4Lv90TY54sm",
        "outputId": "0defea02-bf60-4774-b117-dbd68cc2e91a"
      },
      "execution_count": 6,
      "outputs": [
        {
          "output_type": "stream",
          "name": "stdout",
          "text": [
            "Running Gradio in a Colab notebook requires sharing enabled. Automatically setting `share=True` (you can turn this off by setting `share=False` in `launch()` explicitly).\n",
            "\n",
            "Colab notebook detected. To show errors in colab notebook, set debug=True in launch()\n",
            "* Running on public URL: https://c77aec30633b5332bd.gradio.live\n",
            "\n",
            "This share link expires in 72 hours. For free permanent hosting and GPU upgrades, run `gradio deploy` from the terminal in the working directory to deploy to Hugging Face Spaces (https://huggingface.co/spaces)\n"
          ]
        },
        {
          "output_type": "display_data",
          "data": {
            "text/plain": [
              "<IPython.core.display.HTML object>"
            ],
            "text/html": [
              "<div><iframe src=\"https://c77aec30633b5332bd.gradio.live\" width=\"100%\" height=\"500\" allow=\"autoplay; camera; microphone; clipboard-read; clipboard-write;\" frameborder=\"0\" allowfullscreen></iframe></div>"
            ]
          },
          "metadata": {}
        },
        {
          "output_type": "execute_result",
          "data": {
            "text/plain": []
          },
          "metadata": {},
          "execution_count": 6
        }
      ]
    }
  ]
}