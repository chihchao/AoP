{
  "nbformat": 4,
  "nbformat_minor": 0,
  "metadata": {
    "colab": {
      "provenance": [],
      "authorship_tag": "ABX9TyPiGz7wWQL5C4y30LSUuajM",
      "include_colab_link": true
    },
    "kernelspec": {
      "name": "python3",
      "display_name": "Python 3"
    },
    "language_info": {
      "name": "python"
    }
  },
  "cells": [
    {
      "cell_type": "markdown",
      "metadata": {
        "id": "view-in-github",
        "colab_type": "text"
      },
      "source": [
        "<a href=\"https://colab.research.google.com/github/chihchao/AoP/blob/main/python_overview.ipynb\" target=\"_parent\"><img src=\"https://colab.research.google.com/assets/colab-badge.svg\" alt=\"Open In Colab\"/></a>"
      ]
    },
    {
      "cell_type": "markdown",
      "source": [
        "## 加法器"
      ],
      "metadata": {
        "id": "OaxxiOAXuHkN"
      }
    },
    {
      "cell_type": "markdown",
      "source": [
        "## BMI Calculator"
      ],
      "metadata": {
        "id": "pCe9fGx2uPIi"
      }
    },
    {
      "cell_type": "code",
      "source": [
        "height = float(input('Height (cm): '))\n",
        "weight = float(input('Weight (kg): '))\n",
        "\n",
        "height = height / 100\n",
        "bmi = weight / (height ** 2)\n",
        "\n",
        "print(f'Your BMI is: {bmi:.1f}')"
      ],
      "metadata": {
        "colab": {
          "base_uri": "https://localhost:8080/"
        },
        "id": "Ph9-lCQ5vYcJ",
        "outputId": "1238a125-2c1f-4ecc-ba42-99a69312a136"
      },
      "execution_count": 15,
      "outputs": [
        {
          "output_type": "stream",
          "name": "stdout",
          "text": [
            "Height (cm): 177\n",
            "Weight (kg): 80\n",
            "Your BMI is: 25.5\n"
          ]
        }
      ]
    },
    {
      "cell_type": "markdown",
      "source": [
        "## Rock-Paper-Scissors"
      ],
      "metadata": {
        "id": "NA2orr_Euaj-"
      }
    },
    {
      "cell_type": "markdown",
      "source": [
        "## 終極密碼"
      ],
      "metadata": {
        "id": "YPhN1dyRuin4"
      }
    },
    {
      "cell_type": "markdown",
      "source": [
        "## Caesar Cipher: Encode and decode"
      ],
      "metadata": {
        "id": "kBUxqOwMutUY"
      }
    },
    {
      "cell_type": "markdown",
      "source": [
        "## Shopping Cart"
      ],
      "metadata": {
        "id": "0K1qIchXtWOC"
      }
    },
    {
      "cell_type": "code",
      "source": [
        "from IPython.display import clear_output\n",
        "shopping_cart = []\n",
        "products = { \"apple\": 25, \"banana\": 12, \"cherry\": 30 }\n",
        "while True:\n",
        "    clear_output()\n",
        "    print('商品欄：' + ','.join(f'{product}/{price}' for product, price in products.items()))\n",
        "    print('購物車：' + ','.join(shopping_cart))\n",
        "    print('功能列：1.加入商品；2.移除商品；3.結帳；4.離開')\n",
        "    choice = input()\n",
        "    if choice[0] == '1':\n",
        "        product = choice[2:]\n",
        "        if product in products.keys():\n",
        "            shopping_cart.append(product)\n",
        "    elif choice[0] == '2':\n",
        "        product = choice[2:]\n",
        "        if product in shopping_cart:\n",
        "            shopping_cart.remove(product)\n",
        "    elif choice[0] == '3':\n",
        "        total_price = 0\n",
        "        for item in shopping_cart:\n",
        "            total_price += products[item]\n",
        "        print(f'結帳金額：{total_price}')\n",
        "        break\n",
        "    else:\n",
        "        break"
      ],
      "metadata": {
        "colab": {
          "base_uri": "https://localhost:8080/"
        },
        "id": "RnXfWxbcpyOK",
        "outputId": "ee8a48c3-c4a9-4cb7-eda3-528d27db380c"
      },
      "execution_count": 14,
      "outputs": [
        {
          "output_type": "stream",
          "name": "stdout",
          "text": [
            "商品欄：apple/25,banana/12,cherry/30\n",
            "購物車：apple\n",
            "功能列：1.加入商品；2.移除商品；3.結帳；4.離開\n",
            "3\n",
            "結帳金額：25\n"
          ]
        }
      ]
    }
  ]
}