{
  "nbformat": 4,
  "nbformat_minor": 0,
  "metadata": {
    "colab": {
      "provenance": [],
      "authorship_tag": "ABX9TyNXi008MrTPRMjHcgDri9q9",
      "include_colab_link": true
    },
    "kernelspec": {
      "name": "python3",
      "display_name": "Python 3"
    },
    "language_info": {
      "name": "python"
    }
  },
  "cells": [
    {
      "cell_type": "markdown",
      "metadata": {
        "id": "view-in-github",
        "colab_type": "text"
      },
      "source": [
        "<a href=\"https://colab.research.google.com/github/chihchao/AoP/blob/main/crawler_html_movies.ipynb\" target=\"_parent\"><img src=\"https://colab.research.google.com/assets/colab-badge.svg\" alt=\"Open In Colab\"/></a>"
      ]
    },
    {
      "cell_type": "markdown",
      "source": [
        "## 開眼電影"
      ],
      "metadata": {
        "id": "mlWlKpV3uU7j"
      }
    },
    {
      "cell_type": "code",
      "execution_count": null,
      "metadata": {
        "id": "S9lbRXlylkp2"
      },
      "outputs": [],
      "source": [
        "import requests\n",
        "from bs4 import BeautifulSoup\n",
        "url = 'http://www.atmovies.com.tw/movie/next/'\n",
        "rsp = requests.get(url)\n",
        "rsp.encoding = 'utf-8'\n",
        "soup = BeautifulSoup(rsp.text, 'lxml')\n",
        "print(soup)"
      ]
    },
    {
      "cell_type": "code",
      "source": [
        "with open('a.jpg','wb') as f:\n",
        "    f.write(requests.get('http://www.atmovies.com.tw/photo101/fcen14513804/pl_fcen14513804_0008.jpg').content)"
      ],
      "metadata": {
        "id": "YJ5MRTciInyI"
      },
      "execution_count": null,
      "outputs": []
    },
    {
      "cell_type": "code",
      "source": [
        "import os\n",
        "movies = soup.find('ul', 'filmListAllX').find_all('li')\n",
        "if not os.path.exists('/content/photos'):\n",
        "    os.mkdir('/content/photos')\n",
        "for mv in movies:\n",
        "    print(mv.find('div', 'filmtitle').a.text)\n",
        "    print(mv.find('div', 'filmtitle').a.get('href'))\n",
        "    dt = mv.find('div', 'runtime').a.text if mv.find('div', 'runtime').a else mv.find('div', 'runtime').text\n",
        "    print(dt)\n",
        "    print(mv.find('img').get('src'))\n",
        "    with open('/content/photos/' + mv.find('div', 'filmtitle').a.text + '.jpg', 'wb') as f:\n",
        "        f.write(requests.get(mv.find('img').get('src')).content)"
      ],
      "metadata": {
        "id": "qOpmFDDqpar9"
      },
      "execution_count": null,
      "outputs": []
    },
    {
      "cell_type": "markdown",
      "source": [
        "## AJAX"
      ],
      "metadata": {
        "id": "KOPBwNmuXNKF"
      }
    },
    {
      "cell_type": "markdown",
      "source": [
        "F12 > 網路 > 篩選 > Fetch/XHR > 點選項目 > 預覽/標頭"
      ],
      "metadata": {
        "id": "M7WDA-aZWr77"
      }
    },
    {
      "cell_type": "markdown",
      "source": [
        "KKDay\n",
        "\n",
        "由標頭取得網址及user-agent"
      ],
      "metadata": {
        "id": "ulQtsOp9XXYA"
      }
    },
    {
      "cell_type": "code",
      "source": [
        "import requests\n",
        "\n",
        "url ='https://www.kkday.com/zh-tw/category/ajax_product_list?destination=D-TW-4730&keyword=&availstartdate=&availenddate=&prodcat=CATEGORY_011&currency=TWD&sort=prec&start=0&count=10&ave_score_from=&locations=&time=&glang=&page=1&row=10&fprice=*&eprice=*&immediately_use=0&sale_status=0&departure=&arrival=&travel_type=&rewrite=1&csrf_token_name=b7f074a9bff6fb0ce25ba1a7600da59c'\n",
        "# cookies = {'csrf_cookie_name':'b7f074a9bff6fb0ce25ba1a7600da59c'}\n",
        "rsp = requests.get(url, headers={\n",
        "    'user-agent': 'Mozilla/5.0 (Macintosh; Intel Mac OS X 10_15_7) AppleWebKit/537.36 (KHTML, like Gecko) Chrome/133.0.0.0 Safari/537.36'\n",
        "    })\n",
        "data = rsp.json()"
      ],
      "metadata": {
        "id": "Vt1Yr5phLyZk"
      },
      "execution_count": 19,
      "outputs": []
    },
    {
      "cell_type": "code",
      "source": [
        "data['data'][0]"
      ],
      "metadata": {
        "colab": {
          "base_uri": "https://localhost:8080/"
        },
        "id": "PNhAWnegguRB",
        "outputId": "520afbb7-af63-4416-eb2c-1cd09310ca74"
      },
      "execution_count": 26,
      "outputs": [
        {
          "output_type": "execute_result",
          "data": {
            "text/plain": [
              "{'id': 266796,\n",
              " 'prod_oid': 266796,\n",
              " 'name': '高雄捷運|高雄樂遊套票|交通全運具 48 小時&愛河愛之船&鈴鹿賽道樂園遊等門票',\n",
              " 'introduction': '高雄樂遊套票|交通全運具 48 小時&愛河愛之船・i-Ride飛行劇院・鈴鹿賽道樂園遊及其它景點優惠券',\n",
              " 'rating_count': 1,\n",
              " 'rating_star': 1,\n",
              " 'order_count': 12,\n",
              " 'show_order_count': '',\n",
              " 'confirm_hour': 0,\n",
              " 'instant_booking': True,\n",
              " 'instant_use': True,\n",
              " 'free_refund_policy': False,\n",
              " 'free_refund_before_day': None,\n",
              " 'earliest_sale_date': '20250211',\n",
              " 'sale_status': '1',\n",
              " 'purchase_type': None,\n",
              " 'purchase_date': None,\n",
              " 'is_tourism_product': True,\n",
              " 'readable_url': None,\n",
              " 'main_cat_key': 'M05',\n",
              " 'product_category': {'main': 'CATEGORY_011', 'sub': []},\n",
              " 'promo_tag_keys': [],\n",
              " 'cat_key': ['TAG_2_1'],\n",
              " 'theme_code': [],\n",
              " 'product_labels': [],\n",
              " 'img_url': 'https://image.kkday.com/v2/image/get/w_600%2Cc_fit/s1.kkday.com/product_266796/20250107041422_vAnHG/jpg',\n",
              " 'img_url_list': ['https://image.kkday.com/image/get/w_600%2Cc_fit/s1.kkday.com/product_266796/20250107041422_vAnHG/jpg',\n",
              "  'https://image.kkday.com/image/get/w_600%2Cc_fit/s1.kkday.com/product_266796/20250107040759_icZkJ/jpg',\n",
              "  'https://image.kkday.com/image/get/w_600%2Cc_fit/s1.kkday.com/product_266796/20250107040759_PHeTw/jpg',\n",
              "  'https://image.kkday.com/image/get/w_600%2Cc_fit/s1.kkday.com/product_266796/20250107041111_6pj95/jpg',\n",
              "  'https://image.kkday.com/image/get/w_600%2Cc_fit/s1.kkday.com/product_266796/20250107041319_WkQoe/jpg'],\n",
              " 'duration': 0,\n",
              " 'days': 0,\n",
              " 'hours': 0,\n",
              " 'minutes': 0,\n",
              " 'currency': 'TWD',\n",
              " 'display_sale_price': '1,498',\n",
              " 'sale_price': 1498,\n",
              " 'display_price': '690',\n",
              " 'price': 690,\n",
              " 'discount': 0.5394,\n",
              " 'is_display_price': True,\n",
              " 'app_cheaper_than_web': False,\n",
              " 'max_price': 690,\n",
              " 'countries': [{'id': 'A01-001',\n",
              "   'name': '台灣',\n",
              "   'cities': [{'id': 'A01-001-99999', 'name': '所有城市'},\n",
              "    {'id': 'A01-001-00004', 'name': '高雄'}]}],\n",
              " 'is_marketplace': False,\n",
              " 'supplier_oid_list': ['7602'],\n",
              " 'supplier_name': None,\n",
              " 'supplier_logo': None,\n",
              " 'supplier_award': 0,\n",
              " 'supplier_badge': 0,\n",
              " 'is_zero_price': False,\n",
              " 'destinations': [{'code': 'D-TW-4730', 'name': '高雄'},\n",
              "  {'code': 'D-TW-225', 'name': '台灣'}],\n",
              " 'cities': [{'id': 'A01-001-99999', 'name': '所有城市'},\n",
              "  {'id': 'A01-001-00004', 'name': '高雄'}],\n",
              " 'star_percentage': ['100', 0, '0', '0', '0'],\n",
              " 'show_url_order_num': '',\n",
              " 'country_key': ['A01-001'],\n",
              " 'city_key': ['A01-001-99999', 'A01-001-00004'],\n",
              " 'show_city_name': '所有城市, 多個城市',\n",
              " 'show_country_name': '台灣',\n",
              " 'show_rating_star': ['100', 0, '0', '0', '0'],\n",
              " 'url': 'https://www.kkday.com/zh-tw/product/266796'}"
            ]
          },
          "metadata": {},
          "execution_count": 26
        }
      ]
    },
    {
      "cell_type": "code",
      "source": [
        "for item in data['data']:\n",
        "    print(item['img_url'])\n",
        "    with open(str(item['id'])+'.jpg', 'wb') as f:\n",
        "        f.write(requests.get(item['img_url']).content)"
      ],
      "metadata": {
        "colab": {
          "base_uri": "https://localhost:8080/"
        },
        "id": "IehAnnAQf6gs",
        "outputId": "872202d3-cf9c-49af-fa98-e2ff47ab58a8"
      },
      "execution_count": 30,
      "outputs": [
        {
          "output_type": "stream",
          "name": "stdout",
          "text": [
            "https://image.kkday.com/v2/image/get/w_600%2Cc_fit/s1.kkday.com/product_266796/20250107041422_vAnHG/jpg\n",
            "https://image.kkday.com/v2/image/get/w_600%2Cc_fit/s1.kkday.com/product_102107/20240902062356_UYS4o/png\n",
            "https://image.kkday.com/v2/image/get/w_600%2Cc_fit/s1.kkday.com/product_137987/20230112042434_OoWMP/jpg\n",
            "https://image.kkday.com/v2/image/get/w_600%2Cc_fit/s1.kkday.com/product_259436/20241022121042_4fbIy/jpg\n",
            "https://image.kkday.com/v2/image/get/w_600%2Cc_fit/s1.kkday.com/product_128290/20240925042735_nAx52/jpg\n",
            "https://image.kkday.com/v2/image/get/w_600%2Cc_fit/s1.kkday.com/product_266783/20250107035450_9m0C7/jpg\n",
            "https://image.kkday.com/v2/image/get/w_600%2Cc_fit/s1.kkday.com/product_123933/20220509055318_wGpp2/jpg\n"
          ]
        }
      ]
    }
  ]
}