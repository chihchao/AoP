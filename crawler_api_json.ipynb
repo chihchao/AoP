{
  "nbformat": 4,
  "nbformat_minor": 0,
  "metadata": {
    "colab": {
      "provenance": [],
      "authorship_tag": "ABX9TyOkSsniBSlqVgR/5ykNb7ux",
      "include_colab_link": true
    },
    "kernelspec": {
      "name": "python3",
      "display_name": "Python 3"
    },
    "language_info": {
      "name": "python"
    }
  },
  "cells": [
    {
      "cell_type": "markdown",
      "metadata": {
        "id": "view-in-github",
        "colab_type": "text"
      },
      "source": [
        "<a href=\"https://colab.research.google.com/github/chihchao/AoP/blob/main/crawler_api_json.ipynb\" target=\"_parent\"><img src=\"https://colab.research.google.com/assets/colab-badge.svg\" alt=\"Open In Colab\"/></a>"
      ]
    },
    {
      "cell_type": "markdown",
      "source": [
        "## 高雄紅橘線捷運車站中心座標"
      ],
      "metadata": {
        "id": "evu2S59mK_Ax"
      }
    },
    {
      "cell_type": "markdown",
      "source": [
        "dataset:\n",
        "https://data.gov.tw/dataset/102187\n",
        "\n",
        "data url:\n",
        "https://data.kcg.gov.tw/dataset/2629db6d-98ec-4b24-8ab1-5dc34d998460/resource/662f822c-632b-4cb3-80f6-b5ac053d210b/download/11311.json"
      ],
      "metadata": {
        "id": "MAoqnyiuLh70"
      }
    },
    {
      "cell_type": "code",
      "execution_count": null,
      "metadata": {
        "id": "bTn8nZLJ6k1C"
      },
      "outputs": [],
      "source": [
        "import requests\n",
        "\n",
        "\n",
        "url = \"https://data.kcg.gov.tw/dataset/2629db6d-98ec-4b24-8ab1-5dc34d998460/resource/662f822c-632b-4cb3-80f6-b5ac053d210b/download/11311.json\"\n",
        "\n",
        "response = requests.get(url)\n",
        "\n",
        "if response.status_code == 200:\n",
        "    data = response.json()\n",
        "data"
      ]
    },
    {
      "cell_type": "code",
      "source": [
        "keys = data[0].keys()\n",
        "keys"
      ],
      "metadata": {
        "colab": {
          "base_uri": "https://localhost:8080/"
        },
        "id": "MGOFmpqIUG7z",
        "outputId": "890990fa-c55c-461b-b7d2-4ee21e83fc03"
      },
      "execution_count": 24,
      "outputs": [
        {
          "output_type": "execute_result",
          "data": {
            "text/plain": [
              "dict_keys(['seq', '車站編號', '車站中文名稱', '車站英文名稱', 'Latitude', 'Longitude'])"
            ]
          },
          "metadata": {},
          "execution_count": 24
        }
      ]
    },
    {
      "cell_type": "code",
      "source": [
        "with open('station.csv', 'w', encoding='utf-8') as f:\n",
        "    header = ','.join(keys)\n",
        "    f.write(header + '\\n')\n",
        "    for row in data:\n",
        "        values = [str(row.get(key, '')) for key in keys]\n",
        "        values = ','.join(values)\n",
        "        f.write(values + '\\n')"
      ],
      "metadata": {
        "id": "mSAxJPs7UPcz"
      },
      "execution_count": 26,
      "outputs": []
    },
    {
      "cell_type": "code",
      "source": [
        "from os import write\n",
        "import csv\n",
        "with open('station.csv', 'w', newline='', encoding='utf-8') as f:\n",
        "    writer = csv.DictWriter(f, fieldnames=keys)\n",
        "    writer.writeheader()\n",
        "    writer.writerows(data)"
      ],
      "metadata": {
        "id": "z7vnbZQtUtFw"
      },
      "execution_count": 27,
      "outputs": []
    }
  ]
}