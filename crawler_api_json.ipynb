{
  "nbformat": 4,
  "nbformat_minor": 0,
  "metadata": {
    "colab": {
      "provenance": [],
      "authorship_tag": "ABX9TyNfVXLaSFI6RccDz7qbeO3A",
      "include_colab_link": true
    },
    "kernelspec": {
      "name": "python3",
      "display_name": "Python 3"
    },
    "language_info": {
      "name": "python"
    }
  },
  "cells": [
    {
      "cell_type": "markdown",
      "metadata": {
        "id": "view-in-github",
        "colab_type": "text"
      },
      "source": [
        "<a href=\"https://colab.research.google.com/github/chihchao/AoP/blob/main/crawler_api_json.ipynb\" target=\"_parent\"><img src=\"https://colab.research.google.com/assets/colab-badge.svg\" alt=\"Open In Colab\"/></a>"
      ]
    },
    {
      "cell_type": "markdown",
      "source": [
        "## 高雄紅橘線捷運車站中心座標"
      ],
      "metadata": {
        "id": "evu2S59mK_Ax"
      }
    },
    {
      "cell_type": "markdown",
      "source": [
        "dataset:\n",
        "https://data.gov.tw/dataset/102187\n",
        "\n",
        "data url:\n",
        "https://data.kcg.gov.tw/dataset/2629db6d-98ec-4b24-8ab1-5dc34d998460/resource/662f822c-632b-4cb3-80f6-b5ac053d210b/download/11311.json"
      ],
      "metadata": {
        "id": "MAoqnyiuLh70"
      }
    },
    {
      "cell_type": "code",
      "execution_count": 1,
      "metadata": {
        "id": "bTn8nZLJ6k1C",
        "colab": {
          "base_uri": "https://localhost:8080/"
        },
        "outputId": "59dd151f-1a55-4a24-d5f4-51f89745c607"
      },
      "outputs": [
        {
          "output_type": "execute_result",
          "data": {
            "text/plain": [
              "{'seq': 1,\n",
              " '車站編號': 'R3',\n",
              " '車站中文名稱': '小港',\n",
              " '車站英文名稱': 'Siaogang',\n",
              " 'Latitude': 22.56481191,\n",
              " 'Longitude': 120.3538521}"
            ]
          },
          "metadata": {},
          "execution_count": 1
        }
      ],
      "source": [
        "import requests\n",
        "\n",
        "\n",
        "url = \"https://data.kcg.gov.tw/dataset/2629db6d-98ec-4b24-8ab1-5dc34d998460/resource/662f822c-632b-4cb3-80f6-b5ac053d210b/download/11311.json\"\n",
        "\n",
        "response = requests.get(url)\n",
        "\n",
        "if response.status_code == 200:\n",
        "    data = response.json()\n",
        "data[0]"
      ]
    },
    {
      "cell_type": "code",
      "source": [
        "keys = data[0].keys()\n",
        "keys"
      ],
      "metadata": {
        "colab": {
          "base_uri": "https://localhost:8080/"
        },
        "id": "MGOFmpqIUG7z",
        "outputId": "890990fa-c55c-461b-b7d2-4ee21e83fc03"
      },
      "execution_count": null,
      "outputs": [
        {
          "output_type": "execute_result",
          "data": {
            "text/plain": [
              "dict_keys(['seq', '車站編號', '車站中文名稱', '車站英文名稱', 'Latitude', 'Longitude'])"
            ]
          },
          "metadata": {},
          "execution_count": 24
        }
      ]
    },
    {
      "cell_type": "code",
      "source": [
        "with open('station.csv', 'w', encoding='utf-8') as f:\n",
        "    header = ','.join(keys)\n",
        "    f.write(header + '\\n')\n",
        "    for row in data:\n",
        "        values = [str(row.get(key, '')) for key in keys]\n",
        "        values = ','.join(values)\n",
        "        f.write(values + '\\n')"
      ],
      "metadata": {
        "id": "mSAxJPs7UPcz"
      },
      "execution_count": null,
      "outputs": []
    },
    {
      "cell_type": "code",
      "source": [
        "from os import write\n",
        "import csv\n",
        "with open('station.csv', 'w', newline='', encoding='utf-8') as f:\n",
        "    writer = csv.DictWriter(f, fieldnames=keys)\n",
        "    writer.writeheader()\n",
        "    writer.writerows(data)"
      ],
      "metadata": {
        "id": "z7vnbZQtUtFw"
      },
      "execution_count": null,
      "outputs": []
    },
    {
      "cell_type": "markdown",
      "source": [
        "## Make an APP"
      ],
      "metadata": {
        "id": "V0n2faiSNRBA"
      }
    },
    {
      "cell_type": "code",
      "source": [
        "!pip install gradio"
      ],
      "metadata": {
        "id": "35nmM_uvPjVm"
      },
      "execution_count": null,
      "outputs": []
    },
    {
      "cell_type": "code",
      "source": [
        "import requests\n",
        "import gradio as gr\n",
        "\n",
        "def get_data(url):\n",
        "    response = requests.get(url)\n",
        "    data = response.json()\n",
        "    return data\n",
        "\n",
        "def get_data_ids(data, key):\n",
        "    return [ str(row.get(key, '')) for row in data]\n",
        "\n",
        "def get_station_info(station_id):\n",
        "    data = stations.copy()\n",
        "    station = next((row for row in data if row['車站編號'] == station_id), None)\n",
        "    if station:\n",
        "        intr = f'車站編號：{station[\"車站編號\"]}\\n'\n",
        "        intr += f'車站中文名稱：{station[\"車站中文名稱\"]}\\n'\n",
        "        intr += f'車站英文名稱：{station[\"車站英文名稱\"]}\\n'\n",
        "        return intr\n",
        "    else:\n",
        "        return \"No data found.\"\n",
        "\n",
        "url = 'https://data.kcg.gov.tw/dataset/2629db6d-98ec-4b24-8ab1-5dc34d998460/resource/662f822c-632b-4cb3-80f6-b5ac053d210b/download/11311.json'\n",
        "\n",
        "\n",
        "stations = get_data(url)\n",
        "station_ids = get_data_ids(stations, '車站編號')\n",
        "\n",
        "dropdown = gr.Dropdown(choices=station_ids, label=\"請選擇一個車站編號：\")\n",
        "output = gr.Textbox(label=\"車站資訊：\")\n",
        "\n",
        "gr.Interface(fn=get_station_info, inputs=dropdown, outputs=output).launch()"
      ],
      "metadata": {
        "colab": {
          "base_uri": "https://localhost:8080/",
          "height": 626
        },
        "id": "_E5IoqclNdhG",
        "outputId": "392ccf49-dd06-4d07-812c-5a9dd4d64d0b"
      },
      "execution_count": 14,
      "outputs": [
        {
          "output_type": "stream",
          "name": "stdout",
          "text": [
            "Running Gradio in a Colab notebook requires sharing enabled. Automatically setting `share=True` (you can turn this off by setting `share=False` in `launch()` explicitly).\n",
            "\n",
            "Colab notebook detected. To show errors in colab notebook, set debug=True in launch()\n",
            "* Running on public URL: https://818cc1c4901cd53e8f.gradio.live\n",
            "\n",
            "This share link expires in 72 hours. For free permanent hosting and GPU upgrades, run `gradio deploy` from the terminal in the working directory to deploy to Hugging Face Spaces (https://huggingface.co/spaces)\n"
          ]
        },
        {
          "output_type": "display_data",
          "data": {
            "text/plain": [
              "<IPython.core.display.HTML object>"
            ],
            "text/html": [
              "<div><iframe src=\"https://818cc1c4901cd53e8f.gradio.live\" width=\"100%\" height=\"500\" allow=\"autoplay; camera; microphone; clipboard-read; clipboard-write;\" frameborder=\"0\" allowfullscreen></iframe></div>"
            ]
          },
          "metadata": {}
        },
        {
          "output_type": "execute_result",
          "data": {
            "text/plain": []
          },
          "metadata": {},
          "execution_count": 14
        }
      ]
    },
    {
      "cell_type": "markdown",
      "source": [
        "## 加上地圖"
      ],
      "metadata": {
        "id": "1NXU_L9verw3"
      }
    },
    {
      "cell_type": "code",
      "source": [
        "import requests\n",
        "import gradio as gr\n",
        "\n",
        "def get_data(url):\n",
        "    response = requests.get(url)\n",
        "    data = response.json()\n",
        "    return data\n",
        "\n",
        "def get_data_ids(data, key):\n",
        "    return [ str(row.get(key, '')) for row in data]\n",
        "\n",
        "def get_station_info(station_id):\n",
        "    data = stations.copy()\n",
        "    station = next((row for row in data if row['車站編號'] == station_id), None)\n",
        "    if station:\n",
        "        intr = f'車站編號：{station[\"車站編號\"]}\\n'\n",
        "        intr += f'車站中文名稱：{station[\"車站中文名稱\"]}\\n'\n",
        "        intr += f'車站英文名稱：{station[\"車站英文名稱\"]}\\n'\n",
        "        map = generate_map({'lat': float(station[\"Latitude\"]), 'lon': float(station[\"Longitude\"])})\n",
        "        return intr, map\n",
        "    else:\n",
        "        return \"No data found.\"\n",
        "\n",
        "def generate_map(location):\n",
        "    map_html = f\"\"\"\n",
        "    <div style=\"width: 100%; height: 400px;\">\n",
        "        <iframe\n",
        "            width=\"100%\"\n",
        "            height=\"100%\"\n",
        "            frameborder=\"0\"\n",
        "            scrolling=\"no\"\n",
        "            marginheight=\"0\"\n",
        "            marginwidth=\"0\"\n",
        "            src=\"https://www.openstreetmap.org/export/embed.html?bbox={location['lon']-0.01}%2C{location['lat']-0.01}%2C{location['lon']+0.01}%2C{location['lat']+0.01}&layer=mapnik&marker={location['lat']}%2C{location['lon']}\">\n",
        "        </iframe>\n",
        "    </div>\n",
        "    \"\"\"\n",
        "    return map_html\n",
        "\n",
        "\n",
        "url = 'https://data.kcg.gov.tw/dataset/2629db6d-98ec-4b24-8ab1-5dc34d998460/resource/662f822c-632b-4cb3-80f6-b5ac053d210b/download/11311.json'\n",
        "\n",
        "\n",
        "stations = get_data(url)\n",
        "station_ids = get_data_ids(stations, '車站編號')\n",
        "\n",
        "dropdown = gr.Dropdown(choices=station_ids, label=\"請選擇一個車站編號：\")\n",
        "output_text = gr.Textbox(label=\"Post Details\")\n",
        "output_map = gr.HTML(label=\"Location\")\n",
        "\n",
        "# 配置 Gradio 界面\n",
        "gr.Interface(\n",
        "    fn=get_station_info,\n",
        "    inputs=dropdown,\n",
        "    outputs=[output_text, output_map]\n",
        ").launch()\n"
      ],
      "metadata": {
        "colab": {
          "base_uri": "https://localhost:8080/",
          "height": 626
        },
        "id": "SfCWQJKFXM6U",
        "outputId": "62d4687c-febc-443c-ea86-ff6fbc2e3a9f"
      },
      "execution_count": 17,
      "outputs": [
        {
          "output_type": "stream",
          "name": "stdout",
          "text": [
            "Running Gradio in a Colab notebook requires sharing enabled. Automatically setting `share=True` (you can turn this off by setting `share=False` in `launch()` explicitly).\n",
            "\n",
            "Colab notebook detected. To show errors in colab notebook, set debug=True in launch()\n",
            "* Running on public URL: https://9034e5a6f22a63450b.gradio.live\n",
            "\n",
            "This share link expires in 72 hours. For free permanent hosting and GPU upgrades, run `gradio deploy` from the terminal in the working directory to deploy to Hugging Face Spaces (https://huggingface.co/spaces)\n"
          ]
        },
        {
          "output_type": "display_data",
          "data": {
            "text/plain": [
              "<IPython.core.display.HTML object>"
            ],
            "text/html": [
              "<div><iframe src=\"https://9034e5a6f22a63450b.gradio.live\" width=\"100%\" height=\"500\" allow=\"autoplay; camera; microphone; clipboard-read; clipboard-write;\" frameborder=\"0\" allowfullscreen></iframe></div>"
            ]
          },
          "metadata": {}
        },
        {
          "output_type": "execute_result",
          "data": {
            "text/plain": []
          },
          "metadata": {},
          "execution_count": 17
        }
      ]
    }
  ]
}