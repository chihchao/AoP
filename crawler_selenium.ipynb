{
  "nbformat": 4,
  "nbformat_minor": 0,
  "metadata": {
    "colab": {
      "provenance": [],
      "authorship_tag": "ABX9TyOd3bAn20S98s9Io7v51pTD",
      "include_colab_link": true
    },
    "kernelspec": {
      "name": "python3",
      "display_name": "Python 3"
    },
    "language_info": {
      "name": "python"
    }
  },
  "cells": [
    {
      "cell_type": "markdown",
      "metadata": {
        "id": "view-in-github",
        "colab_type": "text"
      },
      "source": [
        "<a href=\"https://colab.research.google.com/github/chihchao/AoP/blob/main/crawler_selenium.ipynb\" target=\"_parent\"><img src=\"https://colab.research.google.com/assets/colab-badge.svg\" alt=\"Open In Colab\"/></a>"
      ]
    },
    {
      "cell_type": "markdown",
      "source": [
        "## Install Chromedriver and Selenium"
      ],
      "metadata": {
        "id": "Xlam9bwIV4iu"
      }
    },
    {
      "cell_type": "markdown",
      "source": [
        "準備 Selenium 網頁自動化測試的執行環境。"
      ],
      "metadata": {
        "id": "TXGZORrGWK3L"
      }
    },
    {
      "cell_type": "code",
      "execution_count": null,
      "metadata": {
        "id": "24P5fkW6JaQt"
      },
      "outputs": [],
      "source": [
        "!apt-get update\n",
        "!apt install chromium-chromedriver\n",
        "!cp /usr/lib/chromium-browser/chromedriver /usr/bin\n",
        "!pip install selenium -q"
      ]
    },
    {
      "cell_type": "markdown",
      "source": [
        "## Using selenium"
      ],
      "metadata": {
        "id": "8t2tyrVuXZJg"
      }
    },
    {
      "cell_type": "code",
      "source": [
        "from selenium import webdriver\n",
        "options = webdriver.ChromeOptions()\n",
        "options.add_argument('--headless')\n",
        "options.add_argument('--no-sandbox')\n",
        "options.add_argument('--disable-dev-shm-usage')\n",
        "driver = webdriver.Chrome(options=options)\n",
        "driver.implicitly_wait(10)"
      ],
      "metadata": {
        "id": "Ua0w6Yv7WYeV"
      },
      "execution_count": 15,
      "outputs": []
    },
    {
      "cell_type": "markdown",
      "source": [
        "## The First Page"
      ],
      "metadata": {
        "id": "eDcUMEmSYXKg"
      }
    },
    {
      "cell_type": "markdown",
      "source": [
        "[https://www.example.com](https://www.example.com)"
      ],
      "metadata": {
        "id": "_Hwm8jbDYwae"
      }
    },
    {
      "cell_type": "code",
      "source": [
        "driver.get(\"https://www.example.com\")\n",
        "print(driver.page_source)\n",
        "# driver.quit()"
      ],
      "metadata": {
        "colab": {
          "base_uri": "https://localhost:8080/"
        },
        "id": "btFrp_IPXUIw",
        "outputId": "62d287a1-96be-4ed1-e622-d41834ebe757"
      },
      "execution_count": 13,
      "outputs": [
        {
          "output_type": "stream",
          "name": "stdout",
          "text": [
            "<html><head>\n",
            "    <title>Example Domain</title>\n",
            "\n",
            "    <meta charset=\"utf-8\">\n",
            "    <meta http-equiv=\"Content-type\" content=\"text/html; charset=utf-8\">\n",
            "    <meta name=\"viewport\" content=\"width=device-width, initial-scale=1\">\n",
            "    <style type=\"text/css\">\n",
            "    body {\n",
            "        background-color: #f0f0f2;\n",
            "        margin: 0;\n",
            "        padding: 0;\n",
            "        font-family: -apple-system, system-ui, BlinkMacSystemFont, \"Segoe UI\", \"Open Sans\", \"Helvetica Neue\", Helvetica, Arial, sans-serif;\n",
            "        \n",
            "    }\n",
            "    div {\n",
            "        width: 600px;\n",
            "        margin: 5em auto;\n",
            "        padding: 2em;\n",
            "        background-color: #fdfdff;\n",
            "        border-radius: 0.5em;\n",
            "        box-shadow: 2px 3px 7px 2px rgba(0,0,0,0.02);\n",
            "    }\n",
            "    a:link, a:visited {\n",
            "        color: #38488f;\n",
            "        text-decoration: none;\n",
            "    }\n",
            "    @media (max-width: 700px) {\n",
            "        div {\n",
            "            margin: 0 auto;\n",
            "            width: auto;\n",
            "        }\n",
            "    }\n",
            "    </style>    \n",
            "</head>\n",
            "\n",
            "<body>\n",
            "<div>\n",
            "    <h1>Example Domain</h1>\n",
            "    <p>This domain is for use in illustrative examples in documents. You may use this\n",
            "    domain in literature without prior coordination or asking for permission.</p>\n",
            "    <p><a href=\"https://www.iana.org/domains/example\">More information...</a></p>\n",
            "</div>\n",
            "\n",
            "\n",
            "</body></html>\n"
          ]
        }
      ]
    },
    {
      "cell_type": "markdown",
      "source": [
        "## Google"
      ],
      "metadata": {
        "id": "jdhsaQfJY8iS"
      }
    },
    {
      "cell_type": "code",
      "source": [
        "driver.get(\"https://google.com\")\n",
        "from selenium.webdriver.common.by import By\n",
        "q = driver.find_element(By.NAME, 'q')\n",
        "q.send_keys('ai')\n",
        "q.submit()\n",
        "gs = driver.find_elements(By.CLASS_NAME, 'g')\n",
        "for g in gs:\n",
        "  print(g.text)"
      ],
      "metadata": {
        "colab": {
          "base_uri": "https://localhost:8080/"
        },
        "id": "VoJ2mdh0ZDFl",
        "outputId": "db18d28c-fd19-4178-8350-da9b95bb0bbb"
      },
      "execution_count": 19,
      "outputs": [
        {
          "output_type": "stream",
          "name": "stdout",
          "text": [
            "OpenAI\n",
            "OpenAI\n",
            "https://openai.com\n",
            "We believe our research will eventually lead to artificial general intelligence, a system that can solve human-level problems. Building safe and beneficial ...\n",
            "Introducing ChatGPT · Company · Careers · Democratic inputs to AI grant...\n",
            "Making AI helpful for everyone - Google AI - Google AI\n",
            "Google AI\n",
            "https://ai.google\n",
            "Google AI on Android reimagines your mobile device experience, helping you be more creative, get more done, and stay safe with powerful protection from Google.\n",
            "For developers · AI Principles · Products · Breakthrough AI research\n",
            "Artificial intelligence\n",
            "Wikipedia\n",
            "https://en.wikipedia.org\n",
            "Artificial intelligence (AI), in its broadest sense, is intelligence exhibited by machines, particularly computer systems. It is a field of research in ...\n",
            "AI winter · History · Applications of artificial... · Ai\n",
            "AI Chat\n",
            "DeepAI\n",
            "https://deepai.org\n",
            "AI Chat is an AI chatbot that writes text. You can use it to write stories, messages, or programming code. You can use the AI chatbot as a virtual tutor in ...\n",
            "\n",
            "\n",
            "\n",
            "\n",
            "What Is Artificial Intelligence (AI)?\n",
            "Google Cloud\n",
            "https://cloud.google.com\n",
            "Artificial intelligence is a technology that allows you to generate, classify, and perform tasks like image analysis and speech recognition.\n",
            "AI at Meta\n",
            "AI at Meta\n",
            "https://ai.meta.com\n",
            "Use Meta AI to explore the world around you and bring your visions to life. Try our newest features to ask about photos or have a conversation using just your ...\n",
            "Gemini - chat to supercharge your ideas\n",
            "Gemini\n",
            "https://gemini.google.com\n",
            "Bard is now Gemini. Get help with writing, planning, learning, and more from Google AI.\n",
            "Free AI Image Generator: Online Text to Image App\n",
            "Canva\n",
            "https://www.canva.com\n",
            "Produce AI-generated images and art with a text prompt using Canva's AI photo generator apps: Text to Image, DALL·E by OpenAI, and Imagen by Google Cloud.\n",
            "The Golden Opportunity for American AI\n",
            "The Official Microsoft Blog\n",
            "https://blogs.microsoft.com\n",
            "5 days ago — A golden opportunity lies ahead for America to harness the transformative power of AI—today's electricity—to revolutionize the economy, ...\n"
          ]
        }
      ]
    },
    {
      "cell_type": "markdown",
      "source": [
        "## References"
      ],
      "metadata": {
        "id": "FqB4RVL_aCrz"
      }
    },
    {
      "cell_type": "markdown",
      "source": [
        "\n",
        "\n",
        "*   [Google Colab 使用Selenium自動操作網頁的方法](https://cyublog.com/articles/python-zh/colab-tutorial-selenium/)\n",
        "\n"
      ],
      "metadata": {
        "id": "mKAk8PKxaIC-"
      }
    }
  ]
}