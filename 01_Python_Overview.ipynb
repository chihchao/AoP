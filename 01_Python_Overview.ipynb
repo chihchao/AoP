{
  "nbformat": 4,
  "nbformat_minor": 0,
  "metadata": {
    "colab": {
      "provenance": [],
      "authorship_tag": "ABX9TyMzPN2O5oIYAqQO3mKnu7bT",
      "include_colab_link": true
    },
    "kernelspec": {
      "name": "python3",
      "display_name": "Python 3"
    },
    "language_info": {
      "name": "python"
    }
  },
  "cells": [
    {
      "cell_type": "markdown",
      "metadata": {
        "id": "view-in-github",
        "colab_type": "text"
      },
      "source": [
        "<a href=\"https://colab.research.google.com/github/chihchao/AoP/blob/main/01_Python_Overview.ipynb\" target=\"_parent\"><img src=\"https://colab.research.google.com/assets/colab-badge.svg\" alt=\"Open In Colab\"/></a>"
      ]
    },
    {
      "cell_type": "code",
      "execution_count": null,
      "metadata": {
        "colab": {
          "base_uri": "https://localhost:8080/"
        },
        "id": "i-gIzLFalJ7n",
        "outputId": "e955430a-09d8-4f5b-fb3c-c47779b2941a"
      },
      "outputs": [
        {
          "output_type": "stream",
          "name": "stdout",
          "text": [
            "Name: world\n",
            "Hello world\n"
          ]
        }
      ],
      "source": [
        "name = input('Name: ')\n",
        "print(f'Hello {name}')"
      ]
    },
    {
      "cell_type": "markdown",
      "source": [
        "## BMI Calculator"
      ],
      "metadata": {
        "id": "2NAKDT7_HrhQ"
      }
    },
    {
      "cell_type": "code",
      "source": [
        "height = float(input('Height (cm): '))\n",
        "weight = float(input('Weight (kg): '))\n",
        "\n",
        "height = height / 100\n",
        "bmi = weight / (height ** 2)\n",
        "\n",
        "print(f'Your BMI is: {bmi:.1f}')\n"
      ],
      "metadata": {
        "colab": {
          "base_uri": "https://localhost:8080/"
        },
        "id": "B4LK2zI0HrIw",
        "outputId": "ddf606a2-df6d-452c-ae6f-3a6f873cb561"
      },
      "execution_count": 3,
      "outputs": [
        {
          "output_type": "stream",
          "name": "stdout",
          "text": [
            "Height (cm): 177\n",
            "Weight (kg): 78\n",
            "Your BMI is: 24.9\n"
          ]
        }
      ]
    }
  ]
}