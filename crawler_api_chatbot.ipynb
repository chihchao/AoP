{
  "nbformat": 4,
  "nbformat_minor": 0,
  "metadata": {
    "colab": {
      "provenance": [],
      "authorship_tag": "ABX9TyNMOEqo52bHEygwGzJHckXM",
      "include_colab_link": true
    },
    "kernelspec": {
      "name": "python3",
      "display_name": "Python 3"
    },
    "language_info": {
      "name": "python"
    }
  },
  "cells": [
    {
      "cell_type": "markdown",
      "metadata": {
        "id": "view-in-github",
        "colab_type": "text"
      },
      "source": [
        "<a href=\"https://colab.research.google.com/github/chihchao/AoP/blob/main/crawler_api_chatbot.ipynb\" target=\"_parent\"><img src=\"https://colab.research.google.com/assets/colab-badge.svg\" alt=\"Open In Colab\"/></a>"
      ]
    },
    {
      "cell_type": "markdown",
      "source": [
        "## Test API Key"
      ],
      "metadata": {
        "id": "a5PL-DduN49r"
      }
    },
    {
      "cell_type": "code",
      "execution_count": null,
      "metadata": {
        "id": "76iLwMMWIno4"
      },
      "outputs": [],
      "source": [
        "import google.generativeai as genai\n",
        "\n",
        "api_key = \"Your API Key here...\"\n",
        "genai.configure(api_key=api_key)\n",
        "\n",
        "model = genai.GenerativeModel('gemini-2.0-flash-exp')\n",
        "response = model.generate_content(\n",
        "    '如何使用 Gemini API？請使用繁體中文 zh-hant'\n",
        ")\n",
        "\n",
        "print(response.text)\n"
      ]
    },
    {
      "cell_type": "code",
      "source": [
        "for m in genai.list_models():\n",
        "  if 'generateContent' in m.supported_generation_methods:\n",
        "    print(m.name)"
      ],
      "metadata": {
        "colab": {
          "base_uri": "https://localhost:8080/",
          "height": 555
        },
        "id": "CK29C1nNe3ij",
        "outputId": "71e53553-6754-484a-b06c-507b132f5f54"
      },
      "execution_count": 6,
      "outputs": [
        {
          "output_type": "stream",
          "name": "stdout",
          "text": [
            "models/gemini-1.0-pro-latest\n",
            "models/gemini-1.0-pro\n",
            "models/gemini-pro\n",
            "models/gemini-1.0-pro-001\n",
            "models/gemini-1.0-pro-vision-latest\n",
            "models/gemini-pro-vision\n",
            "models/gemini-1.5-pro-latest\n",
            "models/gemini-1.5-pro-001\n",
            "models/gemini-1.5-pro-002\n",
            "models/gemini-1.5-pro\n",
            "models/gemini-1.5-pro-exp-0801\n",
            "models/gemini-1.5-pro-exp-0827\n",
            "models/gemini-1.5-flash-latest\n",
            "models/gemini-1.5-flash-001\n",
            "models/gemini-1.5-flash-001-tuning\n",
            "models/gemini-1.5-flash\n",
            "models/gemini-1.5-flash-exp-0827\n",
            "models/gemini-1.5-flash-002\n",
            "models/gemini-1.5-flash-8b\n",
            "models/gemini-1.5-flash-8b-001\n",
            "models/gemini-1.5-flash-8b-latest\n",
            "models/gemini-1.5-flash-8b-exp-0827\n",
            "models/gemini-1.5-flash-8b-exp-0924\n",
            "models/gemini-2.0-flash-exp\n",
            "models/gemini-exp-1206\n",
            "models/gemini-exp-1121\n",
            "models/gemini-exp-1114\n",
            "models/gemini-2.0-flash-thinking-exp-01-21\n",
            "models/gemini-2.0-flash-thinking-exp\n",
            "models/gemini-2.0-flash-thinking-exp-1219\n",
            "models/learnlm-1.5-pro-experimental\n"
          ]
        }
      ]
    },
    {
      "cell_type": "markdown",
      "source": [
        "## 使用環境變數儲存金鑰"
      ],
      "metadata": {
        "id": "Gl6fDsEVPR7v"
      }
    },
    {
      "cell_type": "code",
      "source": [
        "from google.colab import userdata\n",
        "import google.generativeai as genai\n",
        "\n",
        "genai.configure(api_key=userdata.get('GOOGLE_API_KEY'))\n",
        "\n",
        "# Create the model\n",
        "generation_config = {\n",
        "    \"temperature\": 1,\n",
        "    \"max_output_tokens\": 8192\n",
        "}\n",
        "\n",
        "model = genai.GenerativeModel(\n",
        "    model_name=\"gemini-2.0-flash-exp\",\n",
        "    generation_config=generation_config,\n",
        ")\n",
        "\n",
        "response = model.generate_content(\n",
        "    '如何使用 Gemini API？請使用繁體中文 zh-hant 回答'\n",
        ")\n",
        "\n",
        "print(response.text)"
      ],
      "metadata": {
        "colab": {
          "base_uri": "https://localhost:8080/",
          "height": 1000
        },
        "collapsed": true,
        "id": "-_M1XTeuN1VH",
        "outputId": "8ed34300-2570-4ea9-fc4c-c58fc8746d7f"
      },
      "execution_count": 5,
      "outputs": [
        {
          "output_type": "stream",
          "name": "stdout",
          "text": [
            "好的，以下是如何使用 Gemini API 的繁體中文說明：\n",
            "\n",
            "**Gemini API 簡介**\n",
            "\n",
            "Gemini API 是 Google 提供的一個強大的 API，讓開發者能夠將 Google 最先進的 AI 模型 (Gemini 模型系列) 整合到自己的應用程式中。這些模型可以處理各種任務，例如：\n",
            "\n",
            "*   **文字生成:** 生成文章、詩歌、程式碼、腳本等等。\n",
            "*   **文字理解:** 分析文字的情緒、意圖、實體，並進行總結和翻譯。\n",
            "*   **多模態理解:** 處理文字、圖片、影片和音訊等多種輸入。\n",
            "*   **對話互動:** 建立自然、引人入勝的聊天機器人。\n",
            "\n",
            "**使用 Gemini API 的步驟**\n",
            "\n",
            "1.  **取得 Google Cloud 專案和 API 金鑰:**\n",
            "\n",
            "    *   **Google Cloud 專案:**\n",
            "        *   你需要一個 Google Cloud Platform (GCP) 的專案。如果你沒有，請前往 [Google Cloud Console](https://console.cloud.google.com/) 建立一個。\n",
            "        *   啟用 **Generative Language API**。在 GCP Console 中搜尋 \"Generative Language API\"，然後點擊 \"啟用\"。\n",
            "    *   **API 金鑰:**\n",
            "        *   在 GCP Console 中，前往 \"API 和服務\" -> \"憑證\"。\n",
            "        *   點擊 \"建立憑證\" -> \"API 金鑰\"。\n",
            "        *   複製建立好的 API 金鑰。\n",
            "        *   **重要：** 請妥善保管你的 API 金鑰，不要公開洩漏。\n",
            "\n",
            "2.  **選擇合適的 Gemini 模型:**\n",
            "\n",
            "    *   Gemini API 提供多種模型，針對不同的任務和需求。\n",
            "    *   常見的模型包含：\n",
            "        *   **Gemini Pro:** 通用的文字模型，適合各種文字生成和理解任務。\n",
            "        *   **Gemini Pro Vision:** 多模態模型，可以處理文字和圖像。\n",
            "        *   **其他模型:** Google 會持續更新和推出新的模型，請參考官方文件以取得最新資訊。\n",
            "    *   在你的程式碼中，你需要指定要使用的模型。\n",
            "\n",
            "3.  **安裝 Gemini API 的 Python 程式庫 (如果使用 Python):**\n",
            "\n",
            "    ```bash\n",
            "    pip install google-generativeai\n",
            "    ```\n",
            "\n",
            "4.  **編寫程式碼:**\n",
            "\n",
            "    以下是一些使用 Python 的 Gemini API 程式碼範例，包含註解說明：\n",
            "\n",
            "    **文字生成 (使用 Gemini Pro 模型):**\n",
            "\n",
            "    ```python\n",
            "    import google.generativeai as genai\n",
            "\n",
            "    # 步驟1: 設定你的 API 金鑰\n",
            "    genai.configure(api_key=\"YOUR_API_KEY\")  # 將 \"YOUR_API_KEY\" 替換成你的 API 金鑰\n",
            "\n",
            "    # 步驟2: 選擇模型\n",
            "    model = genai.GenerativeModel('gemini-pro')\n",
            "\n",
            "    # 步驟3: 發送提示並取得回應\n",
            "    prompt = \"請寫一首關於貓的短詩。\"\n",
            "    response = model.generate_content(prompt)\n",
            "\n",
            "    # 步驟4: 顯示結果\n",
            "    print(response.text)\n",
            "    ```\n",
            "\n",
            "    **多模態處理 (使用 Gemini Pro Vision 模型):**\n",
            "\n",
            "    ```python\n",
            "    import google.generativeai as genai\n",
            "    from PIL import Image\n",
            "\n",
            "    # 步驟1: 設定你的 API 金鑰\n",
            "    genai.configure(api_key=\"YOUR_API_KEY\") # 將 \"YOUR_API_KEY\" 替換成你的 API 金鑰\n",
            "\n",
            "    # 步驟2: 選擇模型\n",
            "    model = genai.GenerativeModel('gemini-pro-vision')\n",
            "\n",
            "    # 步驟3: 載入圖片\n",
            "    image = Image.open('your_image.jpg') # 將 'your_image.jpg' 替換成你的圖片檔案路徑\n",
            "\n",
            "    # 步驟4: 發送提示和圖片並取得回應\n",
            "    prompt = \"請描述這張圖片。\"\n",
            "    response = model.generate_content([prompt, image])\n",
            "\n",
            "    # 步驟5: 顯示結果\n",
            "    print(response.text)\n",
            "    ```\n",
            "\n",
            "**重要提示：**\n",
            "\n",
            "*   **費用:** Gemini API 是付費服務，你的使用會產生費用。請參考 [Google Cloud 價格頁面](https://cloud.google.com/generative-ai/pricing) 以了解詳細資訊。\n",
            "*   **限制:**  Gemini API 有使用上的限制，例如請求頻率限制和回應的長度限制。請參考官方文件了解更多。\n",
            "*   **安全性:** 請注意你的 API 金鑰安全，避免洩漏，並遵循 Google Cloud 的安全建議。\n",
            "*   **資料隱私:** 請注意你的資料使用方式，並符合相關的資料隱私法規。\n",
            "*   **官方文件:**  建議你仔細閱讀 Google Gemini API 的 [官方文件](https://ai.google.dev/gemini-api)  以了解最新資訊和完整的使用細節。\n",
            "\n",
            "**更多資源:**\n",
            "\n",
            "*   [Gemini API 入門指南](https://ai.google.dev/tutorials/python_quickstart)\n",
            "*   [Google Gemini API 官方文件](https://ai.google.dev/gemini-api)\n",
            "*   [Google Cloud 說明文件](https://cloud.google.com/docs)\n",
            "\n",
            "**總結**\n",
            "\n",
            "以上提供了一個 Gemini API 的基本使用指南。透過這些步驟，你就可以開始將 Gemini 模型整合到你的應用程式中，並利用它強大的 AI 功能來實現各種任務。請務必參考官方文件以取得更詳細和最新的資訊。\n",
            "\n",
            "希望這個繁體中文的說明能幫助你理解如何使用 Gemini API! 如果你有任何問題，隨時可以再提出。\n",
            "\n"
          ]
        }
      ]
    },
    {
      "cell_type": "markdown",
      "source": [
        "## 連續對話"
      ],
      "metadata": {
        "id": "wtfFgMHPN0aS"
      }
    },
    {
      "cell_type": "code",
      "source": [
        "from google.colab import userdata\n",
        "import google.generativeai as genai\n",
        "from IPython.display import Markdown, display\n",
        "\n",
        "genai.configure(api_key=userdata.get('GOOGLE_API_KEY'))\n",
        "\n",
        "# Create the model\n",
        "generation_config = {\n",
        "    \"temperature\": 1,\n",
        "    \"max_output_tokens\": 8192\n",
        "}\n",
        "\n",
        "model = genai.GenerativeModel(\n",
        "    model_name=\"gemini-2.0-flash-exp\",\n",
        "    generation_config=generation_config,\n",
        ")\n",
        "\n",
        "chat_session = model.start_chat(history=[])\n",
        "\n",
        "while True:\n",
        "    user_input = input(\"User: \")\n",
        "    if user_input.lower() in [\"bye\"]:\n",
        "        break\n",
        "    response = chat_session.send_message(user_input)\n",
        "    print(\"Gemini:\")\n",
        "    display(Markdown(response.text))\n"
      ],
      "metadata": {
        "colab": {
          "base_uri": "https://localhost:8080/",
          "height": 663
        },
        "id": "T61K4b8yQtlf",
        "outputId": "94b4fa3f-06df-4783-9e31-d7c737acc0f1"
      },
      "execution_count": 10,
      "outputs": [
        {
          "output_type": "stream",
          "name": "stdout",
          "text": [
            "User: 請用繁體中文zh-hant和我說話\n",
            "Gemini:\n"
          ]
        },
        {
          "output_type": "display_data",
          "data": {
            "text/plain": [
              "<IPython.core.display.Markdown object>"
            ],
            "text/markdown": "好的，沒問題！請問您今天想聊些什麼呢？ 我很樂意用繁體中文和您對話。 😊\n"
          },
          "metadata": {}
        },
        {
          "output_type": "stream",
          "name": "stdout",
          "text": [
            "User: 你是誰？\n",
            "Gemini:\n"
          ]
        },
        {
          "output_type": "display_data",
          "data": {
            "text/plain": [
              "<IPython.core.display.Markdown object>"
            ],
            "text/markdown": "我是一個大型語言模型，由 Google 訓練。 \n\n簡單來說，你可以把我當成一個能理解和產生人類語言的電腦程式。 我可以回答您的問題、寫不同類型的文字、翻譯語言，甚至還可以幫您發想創意。\n\n您還有什麼想了解我的嗎？\n"
          },
          "metadata": {}
        },
        {
          "output_type": "stream",
          "name": "stdout",
          "text": [
            "User: 你擅長什麼？\n",
            "Gemini:\n"
          ]
        },
        {
          "output_type": "display_data",
          "data": {
            "text/plain": [
              "<IPython.core.display.Markdown object>"
            ],
            "text/markdown": "我擅長的事情很多，可以大致歸納成以下幾個方面：\n\n**1. 理解和產生語言：**\n\n* **回答問題：** 我可以盡力回答您提出的各種問題，從事實性問題到抽象概念，我都盡力給出準確、有用的答案。\n* **自然語言處理：** 我可以理解人類語言的意圖、語氣和上下文，並根據這些資訊做出適當的回應。\n* **文本生成：** 我可以根據您的需求生成不同風格和長度的文本，例如：\n    * **文章撰寫：** 我可以寫作文章、段落、故事、詩歌等等。\n    * **內容改寫：** 我可以改寫或翻譯現有的文本。\n    * **創意發想：** 我可以協助您發想點子、擬定標題、撰寫產品描述等等。\n* **翻譯：** 我可以將多種語言互相翻譯，並且盡可能保持原文的含義和風格。\n* **總結：** 我可以從長篇文章或文本中提取重點，提供簡潔的摘要。\n* **對話：** 我可以與您進行流暢自然的對話，並盡力提供有幫助的回應。\n\n**2. 學習和知識：**\n\n* **廣泛的知識庫：** 我接受過大量文本數據的訓練，擁有廣泛的知識庫，涵蓋各個領域。\n* **持續學習：** 我不斷學習新的資訊和技能，以提升我的能力。\n* **檢索信息：** 我可以快速檢索互聯網上的資訊，並將其整合到我的回答中。\n\n**3. 程式和邏輯：**\n\n* **程式碼生成：** 我可以根據您的描述生成簡單的程式碼，例如 Python、JavaScript等。\n* **邏輯推理：** 我可以進行簡單的邏輯推理和分析。\n\n**總結來說，我擅長處理與語言相關的任務，並且擁有廣泛的知識和學習能力。我可以協助您解決問題、提供資訊、產生內容，甚至可以成為您一個有趣的對話夥伴。**\n\n您想讓我嘗試哪些方面呢？ 我很樂意為您服務！\n"
          },
          "metadata": {}
        },
        {
          "name": "stdout",
          "output_type": "stream",
          "text": [
            "User: bye\n"
          ]
        }
      ]
    },
    {
      "cell_type": "code",
      "source": [
        "chat_session.history"
      ],
      "metadata": {
        "colab": {
          "base_uri": "https://localhost:8080/"
        },
        "id": "ZtixUMw-hIv3",
        "outputId": "4ecff30e-e5e3-452c-c983-90c4fddce322"
      },
      "execution_count": 11,
      "outputs": [
        {
          "output_type": "execute_result",
          "data": {
            "text/plain": [
              "[parts {\n",
              "   text: \"請用繁體中文zh-hant和我說話\"\n",
              " }\n",
              " role: \"user\",\n",
              " parts {\n",
              "   text: \"好的，沒問題！請問您今天想聊些什麼呢？ 我很樂意用繁體中文和您對話。 😊\\n\"\n",
              " }\n",
              " role: \"model\",\n",
              " parts {\n",
              "   text: \"你是誰？\"\n",
              " }\n",
              " role: \"user\",\n",
              " parts {\n",
              "   text: \"我是一個大型語言模型，由 Google 訓練。 \\n\\n簡單來說，你可以把我當成一個能理解和產生人類語言的電腦程式。 我可以回答您的問題、寫不同類型的文字、翻譯語言，甚至還可以幫您發想創意。\\n\\n您還有什麼想了解我的嗎？\\n\"\n",
              " }\n",
              " role: \"model\",\n",
              " parts {\n",
              "   text: \"你擅長什麼？\"\n",
              " }\n",
              " role: \"user\",\n",
              " parts {\n",
              "   text: \"我擅長的事情很多，可以大致歸納成以下幾個方面：\\n\\n**1. 理解和產生語言：**\\n\\n* **回答問題：** 我可以盡力回答您提出的各種問題，從事實性問題到抽象概念，我都盡力給出準確、有用的答案。\\n* **自然語言處理：** 我可以理解人類語言的意圖、語氣和上下文，並根據這些資訊做出適當的回應。\\n* **文本生成：** 我可以根據您的需求生成不同風格和長度的文本，例如：\\n    * **文章撰寫：** 我可以寫作文章、段落、故事、詩歌等等。\\n    * **內容改寫：** 我可以改寫或翻譯現有的文本。\\n    * **創意發想：** 我可以協助您發想點子、擬定標題、撰寫產品描述等等。\\n* **翻譯：** 我可以將多種語言互相翻譯，並且盡可能保持原文的含義和風格。\\n* **總結：** 我可以從長篇文章或文本中提取重點，提供簡潔的摘要。\\n* **對話：** 我可以與您進行流暢自然的對話，並盡力提供有幫助的回應。\\n\\n**2. 學習和知識：**\\n\\n* **廣泛的知識庫：** 我接受過大量文本數據的訓練，擁有廣泛的知識庫，涵蓋各個領域。\\n* **持續學習：** 我不斷學習新的資訊和技能，以提升我的能力。\\n* **檢索信息：** 我可以快速檢索互聯網上的資訊，並將其整合到我的回答中。\\n\\n**3. 程式和邏輯：**\\n\\n* **程式碼生成：** 我可以根據您的描述生成簡單的程式碼，例如 Python、JavaScript等。\\n* **邏輯推理：** 我可以進行簡單的邏輯推理和分析。\\n\\n**總結來說，我擅長處理與語言相關的任務，並且擁有廣泛的知識和學習能力。我可以協助您解決問題、提供資訊、產生內容，甚至可以成為您一個有趣的對話夥伴。**\\n\\n您想讓我嘗試哪些方面呢？ 我很樂意為您服務！\\n\"\n",
              " }\n",
              " role: \"model\"]"
            ]
          },
          "metadata": {},
          "execution_count": 11
        }
      ]
    }
  ]
}